{
 "cells": [
  {
   "cell_type": "markdown",
   "metadata": {},
   "source": [
    "## Support Vector Machine(SVM) using Pearson's Correlation as feature selection"
   ]
  },
  {
   "cell_type": "markdown",
   "metadata": {},
   "source": [
    "In this assignment, we will be using Support Vector Regression(SVR) from the Support Vector Machine(SVM) using Scikit-learn \n",
    "module. The purpose of this model is to predict the miles per gallon(mpg) of city-cycle fuel consumption which is our target variable using several input \n",
    "variables."
   ]
  },
  {
   "cell_type": "markdown",
   "metadata": {},
   "source": [
    "Import standard modules and dataset"
   ]
  },
  {
   "cell_type": "code",
   "execution_count": 1,
   "metadata": {},
   "outputs": [
    {
     "data": {
      "text/html": [
       "<div>\n",
       "<style scoped>\n",
       "    .dataframe tbody tr th:only-of-type {\n",
       "        vertical-align: middle;\n",
       "    }\n",
       "\n",
       "    .dataframe tbody tr th {\n",
       "        vertical-align: top;\n",
       "    }\n",
       "\n",
       "    .dataframe thead th {\n",
       "        text-align: right;\n",
       "    }\n",
       "</style>\n",
       "<table border=\"1\" class=\"dataframe\">\n",
       "  <thead>\n",
       "    <tr style=\"text-align: right;\">\n",
       "      <th></th>\n",
       "      <th>mpg</th>\n",
       "      <th>cylinders</th>\n",
       "      <th>displacement</th>\n",
       "      <th>horsepower</th>\n",
       "      <th>weight</th>\n",
       "      <th>acceleration</th>\n",
       "      <th>model_year</th>\n",
       "      <th>origin</th>\n",
       "      <th>car_name</th>\n",
       "    </tr>\n",
       "  </thead>\n",
       "  <tbody>\n",
       "    <tr>\n",
       "      <th>0</th>\n",
       "      <td>18.0</td>\n",
       "      <td>8</td>\n",
       "      <td>307.0</td>\n",
       "      <td>130.0</td>\n",
       "      <td>3504.0</td>\n",
       "      <td>12.0</td>\n",
       "      <td>70</td>\n",
       "      <td>1</td>\n",
       "      <td>chevrolet chevelle malibu</td>\n",
       "    </tr>\n",
       "    <tr>\n",
       "      <th>1</th>\n",
       "      <td>15.0</td>\n",
       "      <td>8</td>\n",
       "      <td>350.0</td>\n",
       "      <td>165.0</td>\n",
       "      <td>3693.0</td>\n",
       "      <td>11.5</td>\n",
       "      <td>70</td>\n",
       "      <td>1</td>\n",
       "      <td>buick skylark 320</td>\n",
       "    </tr>\n",
       "    <tr>\n",
       "      <th>2</th>\n",
       "      <td>18.0</td>\n",
       "      <td>8</td>\n",
       "      <td>318.0</td>\n",
       "      <td>150.0</td>\n",
       "      <td>3436.0</td>\n",
       "      <td>11.0</td>\n",
       "      <td>70</td>\n",
       "      <td>1</td>\n",
       "      <td>plymouth satellite</td>\n",
       "    </tr>\n",
       "    <tr>\n",
       "      <th>3</th>\n",
       "      <td>16.0</td>\n",
       "      <td>8</td>\n",
       "      <td>304.0</td>\n",
       "      <td>150.0</td>\n",
       "      <td>3433.0</td>\n",
       "      <td>12.0</td>\n",
       "      <td>70</td>\n",
       "      <td>1</td>\n",
       "      <td>amc rebel sst</td>\n",
       "    </tr>\n",
       "    <tr>\n",
       "      <th>4</th>\n",
       "      <td>17.0</td>\n",
       "      <td>8</td>\n",
       "      <td>302.0</td>\n",
       "      <td>140.0</td>\n",
       "      <td>3449.0</td>\n",
       "      <td>10.5</td>\n",
       "      <td>70</td>\n",
       "      <td>1</td>\n",
       "      <td>ford torino</td>\n",
       "    </tr>\n",
       "  </tbody>\n",
       "</table>\n",
       "</div>"
      ],
      "text/plain": [
       "    mpg  cylinders  displacement  horsepower  weight  acceleration  \\\n",
       "0  18.0          8         307.0       130.0  3504.0          12.0   \n",
       "1  15.0          8         350.0       165.0  3693.0          11.5   \n",
       "2  18.0          8         318.0       150.0  3436.0          11.0   \n",
       "3  16.0          8         304.0       150.0  3433.0          12.0   \n",
       "4  17.0          8         302.0       140.0  3449.0          10.5   \n",
       "\n",
       "   model_year  origin                   car_name  \n",
       "0          70       1  chevrolet chevelle malibu  \n",
       "1          70       1          buick skylark 320  \n",
       "2          70       1         plymouth satellite  \n",
       "3          70       1              amc rebel sst  \n",
       "4          70       1                ford torino  "
      ]
     },
     "execution_count": 1,
     "metadata": {},
     "output_type": "execute_result"
    }
   ],
   "source": [
    "import numpy as np\n",
    "import warnings\n",
    "import pandas as pd\n",
    "import seaborn as sns\n",
    "import matplotlib.pyplot as plt\n",
    "import statsmodels as sm\n",
    "from sklearn.svm import SVR\n",
    "from statsmodels.stats.outliers_influence import variance_inflation_factor\n",
    "warnings.filterwarnings(\"ignore\")\n",
    "df = pd.read_csv(\"auto_mpg.csv\",sep=\";\")\n",
    "df.head()\n"
   ]
  },
  {
   "cell_type": "markdown",
   "metadata": {},
   "source": [
    "The info will allows us to see the information of the overall dataset so that we can understand the dataset easily"
   ]
  },
  {
   "cell_type": "code",
   "execution_count": 18,
   "metadata": {},
   "outputs": [
    {
     "name": "stdout",
     "output_type": "stream",
     "text": [
      "<class 'pandas.core.frame.DataFrame'>\n",
      "RangeIndex: 398 entries, 0 to 397\n",
      "Data columns (total 9 columns):\n",
      " #   Column        Non-Null Count  Dtype  \n",
      "---  ------        --------------  -----  \n",
      " 0   mpg           398 non-null    float64\n",
      " 1   cylinders     398 non-null    int64  \n",
      " 2   displacement  398 non-null    float64\n",
      " 3   horsepower    398 non-null    float64\n",
      " 4   weight        398 non-null    float64\n",
      " 5   acceleration  398 non-null    float64\n",
      " 6   model_year    398 non-null    int64  \n",
      " 7   origin        398 non-null    int64  \n",
      " 8   car_name      398 non-null    object \n",
      "dtypes: float64(5), int64(3), object(1)\n",
      "memory usage: 28.1+ KB\n",
      "None\n"
     ]
    }
   ],
   "source": [
    "print(df.info())"
   ]
  },
  {
   "cell_type": "markdown",
   "metadata": {},
   "source": [
    "The is to check whether each features contain null values"
   ]
  },
  {
   "cell_type": "code",
   "execution_count": 26,
   "metadata": {},
   "outputs": [
    {
     "data": {
      "text/plain": [
       "mpg             0\n",
       "cylinders       0\n",
       "displacement    0\n",
       "horsepower      0\n",
       "weight          0\n",
       "acceleration    0\n",
       "model_year      0\n",
       "origin          0\n",
       "Brand           0\n",
       "dtype: int64"
      ]
     },
     "execution_count": 26,
     "metadata": {},
     "output_type": "execute_result"
    }
   ],
   "source": [
    "df.isnull().sum()"
   ]
  },
  {
   "cell_type": "markdown",
   "metadata": {},
   "source": [
    "This is to understand the dataset"
   ]
  },
  {
   "cell_type": "code",
   "execution_count": 22,
   "metadata": {},
   "outputs": [
    {
     "data": {
      "text/html": [
       "<div>\n",
       "<style scoped>\n",
       "    .dataframe tbody tr th:only-of-type {\n",
       "        vertical-align: middle;\n",
       "    }\n",
       "\n",
       "    .dataframe tbody tr th {\n",
       "        vertical-align: top;\n",
       "    }\n",
       "\n",
       "    .dataframe thead th {\n",
       "        text-align: right;\n",
       "    }\n",
       "</style>\n",
       "<table border=\"1\" class=\"dataframe\">\n",
       "  <thead>\n",
       "    <tr style=\"text-align: right;\">\n",
       "      <th></th>\n",
       "      <th>mpg</th>\n",
       "      <th>cylinders</th>\n",
       "      <th>displacement</th>\n",
       "      <th>horsepower</th>\n",
       "      <th>weight</th>\n",
       "      <th>acceleration</th>\n",
       "      <th>model_year</th>\n",
       "      <th>origin</th>\n",
       "    </tr>\n",
       "  </thead>\n",
       "  <tbody>\n",
       "    <tr>\n",
       "      <th>count</th>\n",
       "      <td>398.000000</td>\n",
       "      <td>398.000000</td>\n",
       "      <td>398.000000</td>\n",
       "      <td>398.000000</td>\n",
       "      <td>398.000000</td>\n",
       "      <td>398.000000</td>\n",
       "      <td>398.000000</td>\n",
       "      <td>398.000000</td>\n",
       "    </tr>\n",
       "    <tr>\n",
       "      <th>mean</th>\n",
       "      <td>23.514573</td>\n",
       "      <td>5.454774</td>\n",
       "      <td>193.425879</td>\n",
       "      <td>104.070352</td>\n",
       "      <td>2970.424623</td>\n",
       "      <td>15.568090</td>\n",
       "      <td>76.010050</td>\n",
       "      <td>1.572864</td>\n",
       "    </tr>\n",
       "    <tr>\n",
       "      <th>std</th>\n",
       "      <td>7.815984</td>\n",
       "      <td>1.701004</td>\n",
       "      <td>104.269838</td>\n",
       "      <td>38.374531</td>\n",
       "      <td>846.841774</td>\n",
       "      <td>2.757689</td>\n",
       "      <td>3.697627</td>\n",
       "      <td>0.802055</td>\n",
       "    </tr>\n",
       "    <tr>\n",
       "      <th>min</th>\n",
       "      <td>9.000000</td>\n",
       "      <td>3.000000</td>\n",
       "      <td>68.000000</td>\n",
       "      <td>46.000000</td>\n",
       "      <td>1613.000000</td>\n",
       "      <td>8.000000</td>\n",
       "      <td>70.000000</td>\n",
       "      <td>1.000000</td>\n",
       "    </tr>\n",
       "    <tr>\n",
       "      <th>25%</th>\n",
       "      <td>17.500000</td>\n",
       "      <td>4.000000</td>\n",
       "      <td>104.250000</td>\n",
       "      <td>75.000000</td>\n",
       "      <td>2223.750000</td>\n",
       "      <td>13.825000</td>\n",
       "      <td>73.000000</td>\n",
       "      <td>1.000000</td>\n",
       "    </tr>\n",
       "    <tr>\n",
       "      <th>50%</th>\n",
       "      <td>23.000000</td>\n",
       "      <td>4.000000</td>\n",
       "      <td>148.500000</td>\n",
       "      <td>92.000000</td>\n",
       "      <td>2803.500000</td>\n",
       "      <td>15.500000</td>\n",
       "      <td>76.000000</td>\n",
       "      <td>1.000000</td>\n",
       "    </tr>\n",
       "    <tr>\n",
       "      <th>75%</th>\n",
       "      <td>29.000000</td>\n",
       "      <td>8.000000</td>\n",
       "      <td>262.000000</td>\n",
       "      <td>125.000000</td>\n",
       "      <td>3608.000000</td>\n",
       "      <td>17.175000</td>\n",
       "      <td>79.000000</td>\n",
       "      <td>2.000000</td>\n",
       "    </tr>\n",
       "    <tr>\n",
       "      <th>max</th>\n",
       "      <td>46.600000</td>\n",
       "      <td>8.000000</td>\n",
       "      <td>455.000000</td>\n",
       "      <td>230.000000</td>\n",
       "      <td>5140.000000</td>\n",
       "      <td>24.800000</td>\n",
       "      <td>82.000000</td>\n",
       "      <td>3.000000</td>\n",
       "    </tr>\n",
       "  </tbody>\n",
       "</table>\n",
       "</div>"
      ],
      "text/plain": [
       "              mpg   cylinders  displacement  horsepower       weight  \\\n",
       "count  398.000000  398.000000    398.000000  398.000000   398.000000   \n",
       "mean    23.514573    5.454774    193.425879  104.070352  2970.424623   \n",
       "std      7.815984    1.701004    104.269838   38.374531   846.841774   \n",
       "min      9.000000    3.000000     68.000000   46.000000  1613.000000   \n",
       "25%     17.500000    4.000000    104.250000   75.000000  2223.750000   \n",
       "50%     23.000000    4.000000    148.500000   92.000000  2803.500000   \n",
       "75%     29.000000    8.000000    262.000000  125.000000  3608.000000   \n",
       "max     46.600000    8.000000    455.000000  230.000000  5140.000000   \n",
       "\n",
       "       acceleration  model_year      origin  \n",
       "count    398.000000  398.000000  398.000000  \n",
       "mean      15.568090   76.010050    1.572864  \n",
       "std        2.757689    3.697627    0.802055  \n",
       "min        8.000000   70.000000    1.000000  \n",
       "25%       13.825000   73.000000    1.000000  \n",
       "50%       15.500000   76.000000    1.000000  \n",
       "75%       17.175000   79.000000    2.000000  \n",
       "max       24.800000   82.000000    3.000000  "
      ]
     },
     "execution_count": 22,
     "metadata": {},
     "output_type": "execute_result"
    }
   ],
   "source": [
    "df.describe()"
   ]
  },
  {
   "cell_type": "code",
   "execution_count": 32,
   "metadata": {},
   "outputs": [],
   "source": [
    "df.rename(columns={'Brand':'car_name'},inplace=True)"
   ]
  },
  {
   "cell_type": "markdown",
   "metadata": {},
   "source": [
    "To check if car_name feature is useful for the modelling or not"
   ]
  },
  {
   "cell_type": "code",
   "execution_count": 33,
   "metadata": {},
   "outputs": [
    {
     "data": {
      "text/plain": [
       "305"
      ]
     },
     "execution_count": 33,
     "metadata": {},
     "output_type": "execute_result"
    }
   ],
   "source": [
    "unique = df['car_name'].nunique()\n",
    "unique"
   ]
  },
  {
   "cell_type": "markdown",
   "metadata": {},
   "source": [
    "There are 305 distinct car_name out of 398 rows which shows that the feature is not very important to the modelling.\n",
    "Hence, we can drop the feature from the dataset."
   ]
  },
  {
   "cell_type": "code",
   "execution_count": 34,
   "metadata": {},
   "outputs": [
    {
     "data": {
      "text/html": [
       "<div>\n",
       "<style scoped>\n",
       "    .dataframe tbody tr th:only-of-type {\n",
       "        vertical-align: middle;\n",
       "    }\n",
       "\n",
       "    .dataframe tbody tr th {\n",
       "        vertical-align: top;\n",
       "    }\n",
       "\n",
       "    .dataframe thead th {\n",
       "        text-align: right;\n",
       "    }\n",
       "</style>\n",
       "<table border=\"1\" class=\"dataframe\">\n",
       "  <thead>\n",
       "    <tr style=\"text-align: right;\">\n",
       "      <th></th>\n",
       "      <th>mpg</th>\n",
       "      <th>cylinders</th>\n",
       "      <th>displacement</th>\n",
       "      <th>horsepower</th>\n",
       "      <th>weight</th>\n",
       "      <th>acceleration</th>\n",
       "      <th>model_year</th>\n",
       "      <th>origin</th>\n",
       "    </tr>\n",
       "  </thead>\n",
       "  <tbody>\n",
       "    <tr>\n",
       "      <th>0</th>\n",
       "      <td>18.0</td>\n",
       "      <td>8</td>\n",
       "      <td>307.0</td>\n",
       "      <td>130.0</td>\n",
       "      <td>3504.0</td>\n",
       "      <td>12.0</td>\n",
       "      <td>70</td>\n",
       "      <td>1</td>\n",
       "    </tr>\n",
       "    <tr>\n",
       "      <th>1</th>\n",
       "      <td>15.0</td>\n",
       "      <td>8</td>\n",
       "      <td>350.0</td>\n",
       "      <td>165.0</td>\n",
       "      <td>3693.0</td>\n",
       "      <td>11.5</td>\n",
       "      <td>70</td>\n",
       "      <td>1</td>\n",
       "    </tr>\n",
       "    <tr>\n",
       "      <th>2</th>\n",
       "      <td>18.0</td>\n",
       "      <td>8</td>\n",
       "      <td>318.0</td>\n",
       "      <td>150.0</td>\n",
       "      <td>3436.0</td>\n",
       "      <td>11.0</td>\n",
       "      <td>70</td>\n",
       "      <td>1</td>\n",
       "    </tr>\n",
       "    <tr>\n",
       "      <th>3</th>\n",
       "      <td>16.0</td>\n",
       "      <td>8</td>\n",
       "      <td>304.0</td>\n",
       "      <td>150.0</td>\n",
       "      <td>3433.0</td>\n",
       "      <td>12.0</td>\n",
       "      <td>70</td>\n",
       "      <td>1</td>\n",
       "    </tr>\n",
       "    <tr>\n",
       "      <th>4</th>\n",
       "      <td>17.0</td>\n",
       "      <td>8</td>\n",
       "      <td>302.0</td>\n",
       "      <td>140.0</td>\n",
       "      <td>3449.0</td>\n",
       "      <td>10.5</td>\n",
       "      <td>70</td>\n",
       "      <td>1</td>\n",
       "    </tr>\n",
       "  </tbody>\n",
       "</table>\n",
       "</div>"
      ],
      "text/plain": [
       "    mpg  cylinders  displacement  horsepower  weight  acceleration  \\\n",
       "0  18.0          8         307.0       130.0  3504.0          12.0   \n",
       "1  15.0          8         350.0       165.0  3693.0          11.5   \n",
       "2  18.0          8         318.0       150.0  3436.0          11.0   \n",
       "3  16.0          8         304.0       150.0  3433.0          12.0   \n",
       "4  17.0          8         302.0       140.0  3449.0          10.5   \n",
       "\n",
       "   model_year  origin  \n",
       "0          70       1  \n",
       "1          70       1  \n",
       "2          70       1  \n",
       "3          70       1  \n",
       "4          70       1  "
      ]
     },
     "execution_count": 34,
     "metadata": {},
     "output_type": "execute_result"
    }
   ],
   "source": [
    "df_new = df.drop(['car_name'],axis = 1)\n",
    "df_new.head()"
   ]
  },
  {
   "cell_type": "markdown",
   "metadata": {},
   "source": [
    "## Pearson's Correlation Feature Selection(Filter method)"
   ]
  },
  {
   "cell_type": "markdown",
   "metadata": {},
   "source": [
    "Plot the Pearson correlation heatmap to check the correlation matrix of the mpg with other features. \n",
    "This is to determine the correlation of independent variables with the output variable, mpg"
   ]
  },
  {
   "cell_type": "code",
   "execution_count": 35,
   "metadata": {},
   "outputs": [
    {
     "data": {
      "image/png": "[encoded data removed]",
      "text/plain": [
       "<Figure size 720x432 with 2 Axes>"
      ]
     },
     "metadata": {
      "needs_background": "light"
     },
     "output_type": "display_data"
    }
   ],
   "source": [
    "plt.figure(figsize=(10,6))\n",
    "corrmat = df_new.corr() #default is Pearson's Correlation\n",
    "ax=sns.heatmap(corrmat, annot=True, cmap=plt.cm.Reds) #create heatmap\n",
    "bottom,top = ax.get_ylim()\n",
    "ax.set_ylim(bottom + 0.5, top - 0.5)\n",
    "plt.show()"
   ]
  },
  {
   "cell_type": "code",
   "execution_count": 36,
   "metadata": {},
   "outputs": [
    {
     "data": {
      "text/html": [
       "<div>\n",
       "<style scoped>\n",
       "    .dataframe tbody tr th:only-of-type {\n",
       "        vertical-align: middle;\n",
       "    }\n",
       "\n",
       "    .dataframe tbody tr th {\n",
       "        vertical-align: top;\n",
       "    }\n",
       "\n",
       "    .dataframe thead th {\n",
       "        text-align: right;\n",
       "    }\n",
       "</style>\n",
       "<table border=\"1\" class=\"dataframe\">\n",
       "  <thead>\n",
       "    <tr style=\"text-align: right;\">\n",
       "      <th></th>\n",
       "      <th>mpg</th>\n",
       "      <th>cylinders</th>\n",
       "      <th>displacement</th>\n",
       "      <th>horsepower</th>\n",
       "      <th>weight</th>\n",
       "      <th>acceleration</th>\n",
       "      <th>model_year</th>\n",
       "      <th>origin</th>\n",
       "    </tr>\n",
       "  </thead>\n",
       "  <tbody>\n",
       "    <tr>\n",
       "      <th>mpg</th>\n",
       "      <td>1.000000</td>\n",
       "      <td>-0.775396</td>\n",
       "      <td>-0.804203</td>\n",
       "      <td>-0.777428</td>\n",
       "      <td>-0.831741</td>\n",
       "      <td>0.420289</td>\n",
       "      <td>0.579267</td>\n",
       "      <td>0.563450</td>\n",
       "    </tr>\n",
       "    <tr>\n",
       "      <th>cylinders</th>\n",
       "      <td>-0.775396</td>\n",
       "      <td>1.000000</td>\n",
       "      <td>0.950721</td>\n",
       "      <td>0.843291</td>\n",
       "      <td>0.896017</td>\n",
       "      <td>-0.505419</td>\n",
       "      <td>-0.348746</td>\n",
       "      <td>-0.562543</td>\n",
       "    </tr>\n",
       "    <tr>\n",
       "      <th>displacement</th>\n",
       "      <td>-0.804203</td>\n",
       "      <td>0.950721</td>\n",
       "      <td>1.000000</td>\n",
       "      <td>0.897904</td>\n",
       "      <td>0.932824</td>\n",
       "      <td>-0.543684</td>\n",
       "      <td>-0.370164</td>\n",
       "      <td>-0.609409</td>\n",
       "    </tr>\n",
       "    <tr>\n",
       "      <th>horsepower</th>\n",
       "      <td>-0.777428</td>\n",
       "      <td>0.843291</td>\n",
       "      <td>0.897904</td>\n",
       "      <td>1.000000</td>\n",
       "      <td>0.865309</td>\n",
       "      <td>-0.688285</td>\n",
       "      <td>-0.413942</td>\n",
       "      <td>-0.450202</td>\n",
       "    </tr>\n",
       "    <tr>\n",
       "      <th>weight</th>\n",
       "      <td>-0.831741</td>\n",
       "      <td>0.896017</td>\n",
       "      <td>0.932824</td>\n",
       "      <td>0.865309</td>\n",
       "      <td>1.000000</td>\n",
       "      <td>-0.417457</td>\n",
       "      <td>-0.306564</td>\n",
       "      <td>-0.581024</td>\n",
       "    </tr>\n",
       "    <tr>\n",
       "      <th>acceleration</th>\n",
       "      <td>0.420289</td>\n",
       "      <td>-0.505419</td>\n",
       "      <td>-0.543684</td>\n",
       "      <td>-0.688285</td>\n",
       "      <td>-0.417457</td>\n",
       "      <td>1.000000</td>\n",
       "      <td>0.288137</td>\n",
       "      <td>0.205873</td>\n",
       "    </tr>\n",
       "    <tr>\n",
       "      <th>model_year</th>\n",
       "      <td>0.579267</td>\n",
       "      <td>-0.348746</td>\n",
       "      <td>-0.370164</td>\n",
       "      <td>-0.413942</td>\n",
       "      <td>-0.306564</td>\n",
       "      <td>0.288137</td>\n",
       "      <td>1.000000</td>\n",
       "      <td>0.180662</td>\n",
       "    </tr>\n",
       "    <tr>\n",
       "      <th>origin</th>\n",
       "      <td>0.563450</td>\n",
       "      <td>-0.562543</td>\n",
       "      <td>-0.609409</td>\n",
       "      <td>-0.450202</td>\n",
       "      <td>-0.581024</td>\n",
       "      <td>0.205873</td>\n",
       "      <td>0.180662</td>\n",
       "      <td>1.000000</td>\n",
       "    </tr>\n",
       "  </tbody>\n",
       "</table>\n",
       "</div>"
      ],
      "text/plain": [
       "                   mpg  cylinders  displacement  horsepower    weight  \\\n",
       "mpg           1.000000  -0.775396     -0.804203   -0.777428 -0.831741   \n",
       "cylinders    -0.775396   1.000000      0.950721    0.843291  0.896017   \n",
       "displacement -0.804203   0.950721      1.000000    0.897904  0.932824   \n",
       "horsepower   -0.777428   0.843291      0.897904    1.000000  0.865309   \n",
       "weight       -0.831741   0.896017      0.932824    0.865309  1.000000   \n",
       "acceleration  0.420289  -0.505419     -0.543684   -0.688285 -0.417457   \n",
       "model_year    0.579267  -0.348746     -0.370164   -0.413942 -0.306564   \n",
       "origin        0.563450  -0.562543     -0.609409   -0.450202 -0.581024   \n",
       "\n",
       "              acceleration  model_year    origin  \n",
       "mpg               0.420289    0.579267  0.563450  \n",
       "cylinders        -0.505419   -0.348746 -0.562543  \n",
       "displacement     -0.543684   -0.370164 -0.609409  \n",
       "horsepower       -0.688285   -0.413942 -0.450202  \n",
       "weight           -0.417457   -0.306564 -0.581024  \n",
       "acceleration      1.000000    0.288137  0.205873  \n",
       "model_year        0.288137    1.000000  0.180662  \n",
       "origin            0.205873    0.180662  1.000000  "
      ]
     },
     "execution_count": 36,
     "metadata": {},
     "output_type": "execute_result"
    }
   ],
   "source": [
    "corr_matrix=df_new.corr() #default is Pearson's Correlation\n",
    "corr_matrix"
   ]
  },
  {
   "cell_type": "markdown",
   "metadata": {},
   "source": [
    "We can see that features weight,displacement,horsepower and cylinders are highly correlated with the output variable, mpg.\n",
    "So, we can drop all other features except these. However, one of the assumption of regression is that the independent variable \n",
    "need to be uncorrelated with each other. If these independent variable is correlated, then keep one of them and drop the rest"
   ]
  },
  {
   "cell_type": "code",
   "execution_count": 37,
   "metadata": {},
   "outputs": [
    {
     "name": "stdout",
     "output_type": "stream",
     "text": [
      "acceleration    0.420289\n",
      "origin          0.563450\n",
      "model_year      0.579267\n",
      "cylinders       0.775396\n",
      "horsepower      0.777428\n",
      "displacement    0.804203\n",
      "weight          0.831741\n",
      "mpg             1.000000\n",
      "Name: mpg, dtype: float64\n"
     ]
    }
   ],
   "source": [
    "#Correlation with output variable\n",
    "corrmat_target = abs(corrmat[\"mpg\"]).sort_values(ascending=True)\n",
    "print(corrmat_target)"
   ]
  },
  {
   "cell_type": "markdown",
   "metadata": {},
   "source": [
    "To check whether the independent variable is correlated with each other. Higher correlation mean both features are correlated.\n",
    "For this dataset, weight, cylinders, horsepower and displacement are highly correlated to mpg. For example, weight and displacement are highly correlated to mpg. However, both of the features are highly correlated to each other. Thus, one of them will be kept and another will be dropped. We choose to keep weight(0.831741) because it is highly correlated to mpg compared to displacement(0.804203)."
   ]
  },
  {
   "cell_type": "code",
   "execution_count": 38,
   "metadata": {},
   "outputs": [
    {
     "name": "stdout",
     "output_type": "stream",
     "text": [
      "                weight  displacement\n",
      "weight        1.000000      0.932824\n",
      "displacement  0.932824      1.000000\n"
     ]
    }
   ],
   "source": [
    "print(df_new[['weight','displacement']].corr())"
   ]
  },
  {
   "cell_type": "code",
   "execution_count": 39,
   "metadata": {},
   "outputs": [
    {
     "name": "stdout",
     "output_type": "stream",
     "text": [
      "              weight  horsepower\n",
      "weight      1.000000    0.865309\n",
      "horsepower  0.865309    1.000000\n"
     ]
    }
   ],
   "source": [
    "print(df_new[['weight','horsepower']].corr())"
   ]
  },
  {
   "cell_type": "code",
   "execution_count": 40,
   "metadata": {},
   "outputs": [
    {
     "name": "stdout",
     "output_type": "stream",
     "text": [
      "           cylinders    weight\n",
      "cylinders   1.000000  0.896017\n",
      "weight      0.896017  1.000000\n"
     ]
    }
   ],
   "source": [
    "print(df_new[['cylinders','weight']].corr())"
   ]
  },
  {
   "cell_type": "code",
   "execution_count": 41,
   "metadata": {},
   "outputs": [
    {
     "name": "stdout",
     "output_type": "stream",
     "text": [
      "              weight  model_year\n",
      "weight      1.000000   -0.306564\n",
      "model_year -0.306564    1.000000\n"
     ]
    }
   ],
   "source": [
    "print(df_new[['weight','model_year']].corr())"
   ]
  },
  {
   "cell_type": "code",
   "execution_count": 42,
   "metadata": {},
   "outputs": [
    {
     "name": "stdout",
     "output_type": "stream",
     "text": [
      "            model_year    origin\n",
      "model_year    1.000000  0.180662\n",
      "origin        0.180662  1.000000\n"
     ]
    }
   ],
   "source": [
    "print(df_new[['model_year','origin']].corr())"
   ]
  },
  {
   "cell_type": "code",
   "execution_count": 43,
   "metadata": {},
   "outputs": [
    {
     "name": "stdout",
     "output_type": "stream",
     "text": [
      "                origin  acceleration\n",
      "origin        1.000000      0.205873\n",
      "acceleration  0.205873      1.000000\n"
     ]
    }
   ],
   "source": [
    "print(df_new[['origin','acceleration']].corr())"
   ]
  },
  {
   "cell_type": "code",
   "execution_count": 44,
   "metadata": {},
   "outputs": [
    {
     "name": "stdout",
     "output_type": "stream",
     "text": [
      "Features before feature selection: \n",
      "\n",
      "const           788.116555\n",
      "mpg               5.596044\n",
      "cylinders        10.760210\n",
      "displacement     22.382134\n",
      "horsepower       10.011891\n",
      "weight           13.633153\n",
      "acceleration      2.614517\n",
      "model_year        1.953366\n",
      "origin            1.884120\n",
      "dtype: float64\n",
      "\n",
      "Features after feature selection: \n",
      "\n",
      "const           601.178542\n",
      "mpg               5.490381\n",
      "weight            4.075494\n",
      "acceleration      1.260868\n",
      "model_year        1.827624\n",
      "origin            1.594130\n",
      "dtype: float64\n"
     ]
    }
   ],
   "source": [
    "# Check for multicollinearity using variance inflation vector\n",
    "# A variable affected by multicollinearity will have a value greater than 10\n",
    "X1 = sm.tools.add_constant(df_new) \n",
    "\n",
    "series1 = pd.Series([variance_inflation_factor(X1.values,i) for i in range(X1.shape[1])],\n",
    "                  index=X1.columns)\n",
    "\n",
    "df_latest_data=df_new.drop(['displacement','cylinders','horsepower'],axis = 1)\n",
    "\n",
    "X2 = sm.tools.add_constant(df_latest_data)\n",
    "\n",
    "series2 = pd.Series([variance_inflation_factor(X2.values,i) for i in range(X2.shape[1])],\n",
    "                  index=X2.columns)\n",
    "\n",
    "print('Features before feature selection: \\n\\n{}\\n'.format(series1))\n",
    "print('Features after feature selection: \\n\\n{}'.format(series2))\n"
   ]
  },
  {
   "cell_type": "markdown",
   "metadata": {},
   "source": [
    "Based on the above correlation of features comparison, we are left with weight,acceleration,model year and origin.\n",
    "These are the final features given by Pearson's correlation"
   ]
  },
  {
   "cell_type": "code",
   "execution_count": 45,
   "metadata": {},
   "outputs": [
    {
     "data": {
      "text/html": [
       "<div>\n",
       "<style scoped>\n",
       "    .dataframe tbody tr th:only-of-type {\n",
       "        vertical-align: middle;\n",
       "    }\n",
       "\n",
       "    .dataframe tbody tr th {\n",
       "        vertical-align: top;\n",
       "    }\n",
       "\n",
       "    .dataframe thead th {\n",
       "        text-align: right;\n",
       "    }\n",
       "</style>\n",
       "<table border=\"1\" class=\"dataframe\">\n",
       "  <thead>\n",
       "    <tr style=\"text-align: right;\">\n",
       "      <th></th>\n",
       "      <th>mpg</th>\n",
       "      <th>weight</th>\n",
       "      <th>acceleration</th>\n",
       "      <th>model_year</th>\n",
       "      <th>origin</th>\n",
       "    </tr>\n",
       "  </thead>\n",
       "  <tbody>\n",
       "    <tr>\n",
       "      <th>0</th>\n",
       "      <td>18.0</td>\n",
       "      <td>3504.0</td>\n",
       "      <td>12.0</td>\n",
       "      <td>70</td>\n",
       "      <td>1</td>\n",
       "    </tr>\n",
       "    <tr>\n",
       "      <th>1</th>\n",
       "      <td>15.0</td>\n",
       "      <td>3693.0</td>\n",
       "      <td>11.5</td>\n",
       "      <td>70</td>\n",
       "      <td>1</td>\n",
       "    </tr>\n",
       "    <tr>\n",
       "      <th>2</th>\n",
       "      <td>18.0</td>\n",
       "      <td>3436.0</td>\n",
       "      <td>11.0</td>\n",
       "      <td>70</td>\n",
       "      <td>1</td>\n",
       "    </tr>\n",
       "    <tr>\n",
       "      <th>3</th>\n",
       "      <td>16.0</td>\n",
       "      <td>3433.0</td>\n",
       "      <td>12.0</td>\n",
       "      <td>70</td>\n",
       "      <td>1</td>\n",
       "    </tr>\n",
       "    <tr>\n",
       "      <th>4</th>\n",
       "      <td>17.0</td>\n",
       "      <td>3449.0</td>\n",
       "      <td>10.5</td>\n",
       "      <td>70</td>\n",
       "      <td>1</td>\n",
       "    </tr>\n",
       "  </tbody>\n",
       "</table>\n",
       "</div>"
      ],
      "text/plain": [
       "    mpg  weight  acceleration  model_year  origin\n",
       "0  18.0  3504.0          12.0          70       1\n",
       "1  15.0  3693.0          11.5          70       1\n",
       "2  18.0  3436.0          11.0          70       1\n",
       "3  16.0  3433.0          12.0          70       1\n",
       "4  17.0  3449.0          10.5          70       1"
      ]
     },
     "execution_count": 45,
     "metadata": {},
     "output_type": "execute_result"
    }
   ],
   "source": [
    "df_latest_data=df_new.drop(['displacement','cylinders','horsepower'],axis = 1)\n",
    "df_latest_data.head()"
   ]
  },
  {
   "cell_type": "markdown",
   "metadata": {},
   "source": [
    "We use the chosen features for our input variable based on Pearson's Correlation. Perform StandardScaler to \n",
    "scales all the data features"
   ]
  },
  {
   "cell_type": "code",
   "execution_count": 55,
   "metadata": {},
   "outputs": [],
   "source": [
    "from sklearn.model_selection import train_test_split\n",
    "from sklearn.preprocessing import StandardScaler\n",
    "X=df_latest_data.iloc[:,1:].values\n",
    "y=df_latest_data['mpg'].values\n",
    "scaleX=StandardScaler()\n",
    "scaleY=StandardScaler()\n",
    "X_transform = scaleX.fit_transform(X)\n",
    "y_transform = scaleY.fit_transform(y.reshape(-1,1))\n",
    "\n"
   ]
  },
  {
   "cell_type": "markdown",
   "metadata": {},
   "source": [
    "Split the dataset into training and testing sets"
   ]
  },
  {
   "cell_type": "code",
   "execution_count": 8,
   "metadata": {},
   "outputs": [
    {
     "name": "stdout",
     "output_type": "stream",
     "text": [
      "(318, 4)\n",
      "(80, 4)\n"
     ]
    }
   ],
   "source": [
    "X_train,X_test,y_train,y_test = train_test_split(X_transform,y_transform,train_size=0.8,random_state = 1)\n",
    "print(X_train.shape)\n",
    "print(X_test.shape)"
   ]
  },
  {
   "cell_type": "markdown",
   "metadata": {},
   "source": [
    "## Hyperparameter Tuning of SVM using GridSearchCV"
   ]
  },
  {
   "cell_type": "markdown",
   "metadata": {},
   "source": [
    "Search for the optimal parameter using GridSearchCV"
   ]
  },
  {
   "cell_type": "code",
   "execution_count": 9,
   "metadata": {},
   "outputs": [
    {
     "data": {
      "text/plain": [
       "GridSearchCV(cv='warn', error_score='raise-deprecating',\n",
       "             estimator=SVR(C=1.0, cache_size=200, coef0=0.0, degree=3,\n",
       "                           epsilon=0.1, gamma='auto_deprecated', kernel='rbf',\n",
       "                           max_iter=-1, shrinking=True, tol=0.001,\n",
       "                           verbose=False),\n",
       "             iid='warn', n_jobs=3,\n",
       "             param_grid={'C': [0.1, 1, 5], 'degree': [2, 3, 4],\n",
       "                         'kernel': ['linear', 'rbf', 'poly']},\n",
       "             pre_dispatch='2*n_jobs', refit='r2', return_train_score=False,\n",
       "             scoring=['neg_mean_absolute_error', 'neg_mean_squared_error',\n",
       "                      'r2'],\n",
       "             verbose=0)"
      ]
     },
     "execution_count": 9,
     "metadata": {},
     "output_type": "execute_result"
    }
   ],
   "source": [
    "from sklearn.model_selection import GridSearchCV\n",
    "parameters = {'kernel': ['linear','rbf','poly'], 'C': [0.1, 1, 5],'degree': [2,3,4]}\n",
    "gsc = GridSearchCV(SVR(), parameters,scoring = ['neg_mean_absolute_error', 'neg_mean_squared_error','r2'],n_jobs=3,refit ='r2')\n",
    "gsc.fit(X_train, y_train)\n"
   ]
  },
  {
   "cell_type": "code",
   "execution_count": 279,
   "metadata": {},
   "outputs": [
    {
     "data": {
      "text/plain": [
       "{'mean_fit_time': array([0.00399454, 0.00332705, 0.00199962, 0.00300535, 0.00198134,\n",
       "        0.0029916 , 0.00299176, 0.00232728, 0.00232697, 0.00432189,\n",
       "        0.00365726, 0.00332355, 0.0056541 , 0.00365694, 0.00565116,\n",
       "        0.00465361, 0.00299191, 0.00531912, 0.01063736, 0.00564965,\n",
       "        0.00398914, 0.00764616, 0.0040013 , 0.01363007, 0.01097059,\n",
       "        0.00498637, 0.01929331]),\n",
       " 'std_fit_time': array([1.63448872e-03, 4.87948706e-04, 2.33828548e-05, 1.76465543e-05,\n",
       "        1.80992350e-05, 4.89903609e-07, 8.14296085e-04, 4.69459697e-04,\n",
       "        4.70527427e-04, 4.69965550e-04, 4.70302885e-04, 4.69515903e-04,\n",
       "        4.72394874e-04, 4.68898385e-04, 4.69965550e-04, 4.70302724e-04,\n",
       "        7.78671819e-07, 4.70021655e-04, 1.24319934e-03, 4.72101150e-04,\n",
       "        1.12391596e-07, 4.70415035e-04, 1.55689746e-05, 3.29026400e-03,\n",
       "        1.62878681e-03, 4.49566384e-07, 6.94235759e-03]),\n",
       " 'mean_score_time': array([0.00199294, 0.00231846, 0.00198476, 0.00131536, 0.0023272 ,\n",
       "        0.0013303 , 0.00133006, 0.00232712, 0.00199469, 0.0013295 ,\n",
       "        0.00199453, 0.00199548, 0.0013291 , 0.0019811 , 0.00166265,\n",
       "        0.00166297, 0.00265948, 0.0013299 , 0.00099778, 0.00199628,\n",
       "        0.00132982, 0.0013299 , 0.00166082, 0.00166281, 0.00166225,\n",
       "        0.00265956, 0.00165439]),\n",
       " 'std_score_time': array([1.88224887e-05, 4.56984893e-04, 1.94105851e-05, 4.52661768e-04,\n",
       "        4.70190252e-04, 4.70246800e-04, 4.70415035e-04, 4.69740766e-04,\n",
       "        4.05233662e-07, 4.69965469e-04, 8.10467325e-07, 9.19964862e-07,\n",
       "        4.68392067e-04, 1.79267238e-05, 4.69628294e-04, 4.70021655e-04,\n",
       "        4.70471865e-04, 4.70358829e-04, 3.37174788e-07, 3.03700727e-05,\n",
       "        4.69909263e-04, 4.70021816e-04, 4.69853884e-04, 4.70583653e-04,\n",
       "        4.70190333e-04, 4.69684843e-04, 4.82159986e-04]),\n",
       " 'param_C': masked_array(data=[0.1, 0.1, 0.1, 0.1, 0.1, 0.1, 0.1, 0.1, 0.1, 1, 1, 1,\n",
       "                    1, 1, 1, 1, 1, 1, 5, 5, 5, 5, 5, 5, 5, 5, 5],\n",
       "              mask=[False, False, False, False, False, False, False, False,\n",
       "                    False, False, False, False, False, False, False, False,\n",
       "                    False, False, False, False, False, False, False, False,\n",
       "                    False, False, False],\n",
       "        fill_value='?',\n",
       "             dtype=object),\n",
       " 'param_degree': masked_array(data=[2, 2, 2, 3, 3, 3, 4, 4, 4, 2, 2, 2, 3, 3, 3, 4, 4, 4,\n",
       "                    2, 2, 2, 3, 3, 3, 4, 4, 4],\n",
       "              mask=[False, False, False, False, False, False, False, False,\n",
       "                    False, False, False, False, False, False, False, False,\n",
       "                    False, False, False, False, False, False, False, False,\n",
       "                    False, False, False],\n",
       "        fill_value='?',\n",
       "             dtype=object),\n",
       " 'param_kernel': masked_array(data=['linear', 'rbf', 'poly', 'linear', 'rbf', 'poly',\n",
       "                    'linear', 'rbf', 'poly', 'linear', 'rbf', 'poly',\n",
       "                    'linear', 'rbf', 'poly', 'linear', 'rbf', 'poly',\n",
       "                    'linear', 'rbf', 'poly', 'linear', 'rbf', 'poly',\n",
       "                    'linear', 'rbf', 'poly'],\n",
       "              mask=[False, False, False, False, False, False, False, False,\n",
       "                    False, False, False, False, False, False, False, False,\n",
       "                    False, False, False, False, False, False, False, False,\n",
       "                    False, False, False],\n",
       "        fill_value='?',\n",
       "             dtype=object),\n",
       " 'params': [{'C': 0.1, 'degree': 2, 'kernel': 'linear'},\n",
       "  {'C': 0.1, 'degree': 2, 'kernel': 'rbf'},\n",
       "  {'C': 0.1, 'degree': 2, 'kernel': 'poly'},\n",
       "  {'C': 0.1, 'degree': 3, 'kernel': 'linear'},\n",
       "  {'C': 0.1, 'degree': 3, 'kernel': 'rbf'},\n",
       "  {'C': 0.1, 'degree': 3, 'kernel': 'poly'},\n",
       "  {'C': 0.1, 'degree': 4, 'kernel': 'linear'},\n",
       "  {'C': 0.1, 'degree': 4, 'kernel': 'rbf'},\n",
       "  {'C': 0.1, 'degree': 4, 'kernel': 'poly'},\n",
       "  {'C': 1, 'degree': 2, 'kernel': 'linear'},\n",
       "  {'C': 1, 'degree': 2, 'kernel': 'rbf'},\n",
       "  {'C': 1, 'degree': 2, 'kernel': 'poly'},\n",
       "  {'C': 1, 'degree': 3, 'kernel': 'linear'},\n",
       "  {'C': 1, 'degree': 3, 'kernel': 'rbf'},\n",
       "  {'C': 1, 'degree': 3, 'kernel': 'poly'},\n",
       "  {'C': 1, 'degree': 4, 'kernel': 'linear'},\n",
       "  {'C': 1, 'degree': 4, 'kernel': 'rbf'},\n",
       "  {'C': 1, 'degree': 4, 'kernel': 'poly'},\n",
       "  {'C': 5, 'degree': 2, 'kernel': 'linear'},\n",
       "  {'C': 5, 'degree': 2, 'kernel': 'rbf'},\n",
       "  {'C': 5, 'degree': 2, 'kernel': 'poly'},\n",
       "  {'C': 5, 'degree': 3, 'kernel': 'linear'},\n",
       "  {'C': 5, 'degree': 3, 'kernel': 'rbf'},\n",
       "  {'C': 5, 'degree': 3, 'kernel': 'poly'},\n",
       "  {'C': 5, 'degree': 4, 'kernel': 'linear'},\n",
       "  {'C': 5, 'degree': 4, 'kernel': 'rbf'},\n",
       "  {'C': 5, 'degree': 4, 'kernel': 'poly'}],\n",
       " 'split0_test_neg_mean_absolute_error': array([-0.35747884, -0.35565248, -0.7874454 , -0.35747884, -0.35565248,\n",
       "        -0.45671935, -0.35747884, -0.35565248, -0.60373916, -0.35801018,\n",
       "        -0.29252113, -0.71223215, -0.35801018, -0.29252113, -0.44543497,\n",
       "        -0.35801018, -0.29252113, -0.56006742, -0.35800658, -0.29514224,\n",
       "        -0.7180632 , -0.35800658, -0.29514224, -0.44812376, -0.35800658,\n",
       "        -0.29514224, -0.55276362]),\n",
       " 'split1_test_neg_mean_absolute_error': array([-0.34344616, -0.3804048 , -0.7667497 , -0.34344616, -0.3804048 ,\n",
       "        -0.43699365, -0.34344616, -0.3804048 , -0.62081475, -0.34315292,\n",
       "        -0.28838786, -0.70223949, -0.34315292, -0.28838786, -0.39263682,\n",
       "        -0.34315292, -0.28838786, -0.52981425, -0.34316351, -0.26135976,\n",
       "        -0.68089336, -0.34316351, -0.26135976, -0.39837095, -0.34316351,\n",
       "        -0.26135976, -0.52835261]),\n",
       " 'split2_test_neg_mean_absolute_error': array([-0.34118185, -0.32470349, -0.6658216 , -0.34118185, -0.32470349,\n",
       "        -0.42320353, -0.34118185, -0.32470349, -0.53505068, -0.34238532,\n",
       "        -0.28966324, -0.66197138, -0.34238532, -0.28966324, -0.38451178,\n",
       "        -0.34238532, -0.28966324, -0.53302097, -0.34236659, -0.29244189,\n",
       "        -0.63957391, -0.34236659, -0.29244189, -0.38165317, -0.34236659,\n",
       "        -0.29244189, -0.55226528]),\n",
       " 'mean_test_neg_mean_absolute_error': array([-0.34736895, -0.35358692, -0.74000557, -0.34736895, -0.35358692,\n",
       "        -0.43897218, -0.34736895, -0.35358692, -0.58653486, -0.34784947,\n",
       "        -0.29019074, -0.69214767, -0.34784947, -0.29019074, -0.40752786,\n",
       "        -0.34784947, -0.29019074, -0.54096755, -0.34784556, -0.2829813 ,\n",
       "        -0.67951016, -0.34784556, -0.2829813 , -0.40938263, -0.34784556,\n",
       "        -0.2829813 , -0.5444605 ]),\n",
       " 'std_test_neg_mean_absolute_error': array([0.00720829, 0.02278682, 0.05313206, 0.00720829, 0.02278682,\n",
       "        0.01375411, 0.00720829, 0.02278682, 0.03706624, 0.00719153,\n",
       "        0.00172814, 0.02172433, 0.00719153, 0.00172814, 0.02700884,\n",
       "        0.00719153, 0.00172814, 0.01356895, 0.00719229, 0.01532843,\n",
       "        0.03205804, 0.00719229, 0.01532843, 0.02823152, 0.00719229,\n",
       "        0.01532843, 0.01139182]),\n",
       " 'rank_test_neg_mean_absolute_error': array([ 7, 16, 27,  7, 16, 21,  7, 16, 24, 13,  4, 26, 13,  4, 19, 13,  4,\n",
       "        22, 10,  1, 25, 10,  1, 20, 10,  1, 23]),\n",
       " 'split0_test_neg_mean_squared_error': array([-0.21116647, -0.21677761, -1.04801879, -0.21116647, -0.21677761,\n",
       "        -0.33820639, -0.21116647, -0.21677761, -0.6383204 , -0.21020818,\n",
       "        -0.14971195, -0.97250559, -0.21020818, -0.14971195, -0.35782415,\n",
       "        -0.21020818, -0.14971195, -0.65267028, -0.21022315, -0.1573605 ,\n",
       "        -1.06754312, -0.21022315, -0.1573605 , -0.37578193, -0.21022315,\n",
       "        -0.1573605 , -0.68762789]),\n",
       " 'split1_test_neg_mean_squared_error': array([-0.26333913, -0.34058404, -1.20708566, -0.26333913, -0.34058404,\n",
       "        -0.39458284, -0.26333913, -0.34058404, -0.78609154, -0.26313636,\n",
       "        -0.17606759, -1.0838408 , -0.26313636, -0.17606759, -0.38563092,\n",
       "        -0.26313636, -0.17606759, -0.7272711 , -0.26315612, -0.1275923 ,\n",
       "        -1.0895591 , -0.26315612, -0.1275923 , -0.41421924, -0.26315612,\n",
       "        -0.1275923 , -0.76373903]),\n",
       " 'split2_test_neg_mean_squared_error': array([-0.1832066 , -0.16977282, -0.66750442, -0.1832066 , -0.16977282,\n",
       "        -0.29710573, -0.1832066 , -0.16977282, -0.48816263, -0.18156445,\n",
       "        -0.15205622, -0.68170927, -0.18156445, -0.15205622, -0.24779856,\n",
       "        -0.18156445, -0.15205622, -0.50439346, -0.18156688, -0.17038015,\n",
       "        -0.67554919, -0.18156688, -0.17038015, -0.25634402, -0.18156688,\n",
       "        -0.17038015, -0.60805847]),\n",
       " 'mean_test_neg_mean_squared_error': array([-0.2192374 , -0.24237816, -0.97420295, -0.2192374 , -0.24237816,\n",
       "        -0.34329832, -0.2192374 , -0.24237816, -0.63752485, -0.218303  ,\n",
       "        -0.15927859, -0.91268522, -0.218303  , -0.15927859, -0.33041788,\n",
       "        -0.218303  , -0.15927859, -0.62811161, -0.21831538, -0.15177765,\n",
       "        -0.94421714, -0.21831538, -0.15177765, -0.34878173, -0.21831538,\n",
       "        -0.15177765, -0.68647513]),\n",
       " 'std_test_neg_mean_squared_error': array([0.03320804, 0.0720447 , 0.22638251, 0.03320804, 0.0720447 ,\n",
       "        0.03995741, 0.03320804, 0.0720447 , 0.12163027, 0.03378992,\n",
       "        0.01191013, 0.16953131, 0.03378992, 0.01191013, 0.05951341,\n",
       "        0.03378992, 0.01191013, 0.09263173, 0.03379659, 0.01790859,\n",
       "        0.19018942, 0.03379659, 0.01790859, 0.06722055, 0.03379659,\n",
       "        0.01790859, 0.06356155]),\n",
       " 'rank_test_neg_mean_squared_error': array([13, 16, 27, 13, 16, 20, 13, 16, 23,  7,  4, 25,  7,  4, 19,  7,  4,\n",
       "        22, 10,  1, 26, 10,  1, 21, 10,  1, 24]),\n",
       " 'split0_test_r2': array([0.80734209, 0.80222276, 0.04383915, 0.80734209, 0.80222276,\n",
       "        0.69143711, 0.80734209, 0.80222276, 0.41762783, 0.80821639,\n",
       "        0.86341017, 0.11273367, 0.80821639, 0.86341017, 0.67353883,\n",
       "        0.80821639, 0.86341017, 0.4045357 , 0.80820273, 0.85643201,\n",
       "        0.0260261 , 0.80820273, 0.85643201, 0.65715503, 0.80820273,\n",
       "        0.85643201, 0.3726421 ]),\n",
       " 'split1_test_r2': array([ 0.77340144,  0.70693359, -0.03867537,  0.77340144,  0.70693359,\n",
       "         0.66046861,  0.77340144,  0.70693359,  0.32358245,  0.77357593,\n",
       "         0.84849702,  0.0673746 ,  0.77357593,  0.84849702,  0.66817157,\n",
       "         0.77357593,  0.84849702,  0.37419637,  0.77355892,  0.89020913,\n",
       "         0.0624541 ,  0.77355892,  0.89020913,  0.64357184,  0.77355892,\n",
       "         0.89020913,  0.34281638]),\n",
       " 'split2_test_r2': array([0.76538774, 0.78259088, 0.14520156, 0.76538774, 0.78259088,\n",
       "        0.61952984, 0.76538774, 0.78259088, 0.37486459, 0.76749066,\n",
       "        0.80527857, 0.12701099, 0.76749066, 0.80527857, 0.68267203,\n",
       "        0.76749066, 0.80527857, 0.35407957, 0.76748755, 0.78181315,\n",
       "        0.13489952, 0.76748755, 0.78181315, 0.67172882, 0.76748755,\n",
       "        0.78181315, 0.22132735]),\n",
       " 'mean_test_r2': array([0.78204376, 0.76391575, 0.05012178, 0.78204376, 0.76391575,\n",
       "        0.65714519, 0.78204376, 0.76391575, 0.37202495, 0.78309432,\n",
       "        0.83906192, 0.10237309, 0.78309432, 0.83906192, 0.67479414,\n",
       "        0.78309432, 0.83906192, 0.37760388, 0.78308307, 0.8428181 ,\n",
       "        0.07445991, 0.78308307, 0.8428181 , 0.65748523, 0.78308307,\n",
       "        0.8428181 , 0.31226194]),\n",
       " 'std_test_r2': array([0.01818532, 0.04108184, 0.07519878, 0.01818532, 0.04108184,\n",
       "        0.02944993, 0.01818532, 0.04108184, 0.03844634, 0.01793686,\n",
       "        0.02465207, 0.02542481, 0.01793686, 0.02465207, 0.00598597,\n",
       "        0.01793686, 0.02465207, 0.02073907, 0.01793439, 0.04528743,\n",
       "        0.04525085, 0.01793439, 0.04528743, 0.01149741, 0.01793439,\n",
       "        0.04528743, 0.0654432 ]),\n",
       " 'rank_test_r2': array([13, 16, 27, 13, 16, 21, 13, 16, 23,  7,  4, 25,  7,  4, 19,  7,  4,\n",
       "        22, 10,  1, 26, 10,  1, 20, 10,  1, 24])}"
      ]
     },
     "execution_count": 279,
     "metadata": {},
     "output_type": "execute_result"
    }
   ],
   "source": [
    "gsc.cv_results_"
   ]
  },
  {
   "cell_type": "markdown",
   "metadata": {},
   "source": [
    "Get the best parameters"
   ]
  },
  {
   "cell_type": "code",
   "execution_count": 10,
   "metadata": {},
   "outputs": [
    {
     "name": "stdout",
     "output_type": "stream",
     "text": [
      "The best parameter to use in SVR is {'C': 5, 'degree': 2, 'kernel': 'rbf'}\n",
      "The best index is 19\n"
     ]
    }
   ],
   "source": [
    "print('The best parameter to use in SVR is',gsc.best_params_)\n",
    "print('The best index is',gsc.best_index_)"
   ]
  },
  {
   "cell_type": "markdown",
   "metadata": {},
   "source": [
    "Build a predictive model using Support Vector Regression based on the optimal parameters"
   ]
  },
  {
   "cell_type": "code",
   "execution_count": 11,
   "metadata": {},
   "outputs": [
    {
     "data": {
      "text/plain": [
       "SVR(C=5, cache_size=200, coef0=0.0, degree=2, epsilon=0.1,\n",
       "    gamma='auto_deprecated', kernel='rbf', max_iter=-1, shrinking=True,\n",
       "    tol=0.001, verbose=False)"
      ]
     },
     "execution_count": 11,
     "metadata": {},
     "output_type": "execute_result"
    }
   ],
   "source": [
    "model=SVR(kernel='rbf',C=5,degree=2)\n",
    "model.fit(X_train,y_train) #to learn the train data"
   ]
  },
  {
   "cell_type": "code",
   "execution_count": 12,
   "metadata": {},
   "outputs": [
    {
     "name": "stdout",
     "output_type": "stream",
     "text": [
      "0.9190225739220784\n",
      "0.9110268981042768\n"
     ]
    }
   ],
   "source": [
    "print(model.score(X_train,y_train)) #determine the accuracy measure of the model based on train data\n",
    "print(model.score(X_test,y_test)) #determine the accuracy measure of the model based on test data"
   ]
  },
  {
   "cell_type": "markdown",
   "metadata": {},
   "source": [
    "Run the prediction using the input test data"
   ]
  },
  {
   "cell_type": "code",
   "execution_count": 13,
   "metadata": {},
   "outputs": [],
   "source": [
    "y_predict = model.predict(X_test)"
   ]
  },
  {
   "cell_type": "markdown",
   "metadata": {},
   "source": [
    "To compare the actual values of mpg with the predicted values of mpg using integers"
   ]
  },
  {
   "cell_type": "code",
   "execution_count": 289,
   "metadata": {},
   "outputs": [],
   "source": [
    "df_y_predicted = pd.DataFrame(model.predict(X_test[0:5])) # choose the first 5 predicted values\n",
    "df_y_test=pd.DataFrame(y_test[0:5])# choose the first 5 test values"
   ]
  },
  {
   "cell_type": "code",
   "execution_count": 290,
   "metadata": {},
   "outputs": [
    {
     "name": "stdout",
     "output_type": "stream",
     "text": [
      "   Test Values  Predicted Values\n",
      "0    -0.706439         -0.290561\n",
      "1     0.587411          0.882370\n",
      "2    -0.527093         -0.872573\n",
      "3    -0.411800         -0.009318\n",
      "4    -0.424610         -0.327026\n"
     ]
    }
   ],
   "source": [
    "comparison=pd.concat([df_y_test,df_y_predicted],axis=1) #combine both column together\n",
    "comparison.columns=['Test Values', 'Predicted Values']\n",
    "print(comparison)"
   ]
  },
  {
   "cell_type": "markdown",
   "metadata": {},
   "source": [
    "## Make some plots to visualize the accuracy of model prediction"
   ]
  },
  {
   "cell_type": "code",
   "execution_count": 291,
   "metadata": {},
   "outputs": [
    {
     "data": {
      "image/png": "[encoded data removed]",
      "text/plain": [
       "<Figure size 720x432 with 1 Axes>"
      ]
     },
     "metadata": {
      "needs_background": "light"
     },
     "output_type": "display_data"
    }
   ],
   "source": [
    "#scatter plot of weight(feature) with test values and predicted values to check the accuracy of the model\n",
    "plt.figure(figsize=(10,6))\n",
    "plt.scatter(X_test[:, 0], y_test,label='Test values') \n",
    "plt.scatter(X_test[:, 0], y_predict,label='Predicted values', c='r')\n",
    "plt.title('Weight with test values(mpg) vs Weight with Predicted values(mpg)')\n",
    "plt.legend()\n",
    "plt.show()"
   ]
  },
  {
   "cell_type": "code",
   "execution_count": 293,
   "metadata": {},
   "outputs": [
    {
     "data": {
      "image/png": "[encoded data removed]",
      "text/plain": [
       "<Figure size 720x432 with 1 Axes>"
      ]
     },
     "metadata": {
      "needs_background": "light"
     },
     "output_type": "display_data"
    }
   ],
   "source": [
    "#scatter plot of acceleration(feature) with test values and predicted values to check the accuracy of the model\n",
    "plt.figure(figsize=(10,6))\n",
    "plt.scatter(X_test[:, 1], y_test,label='Test values') \n",
    "plt.scatter(X_test[:, 1], y_predict,label='Predicted values', c='r')\n",
    "plt.title('Acceleration with test values(mpg) vs Acceleration with Predicted values(mpg)')\n",
    "plt.legend()\n",
    "plt.show()"
   ]
  },
  {
   "cell_type": "markdown",
   "metadata": {},
   "source": [
    "Plot the graph to show comparison between the actual mpg and the predicted mpg"
   ]
  },
  {
   "cell_type": "code",
   "execution_count": 294,
   "metadata": {},
   "outputs": [
    {
     "data": {
      "image/png": "[encoded data removed]",
      "text/plain": [
       "<Figure size 1080x432 with 1 Axes>"
      ]
     },
     "metadata": {
      "needs_background": "light"
     },
     "output_type": "display_data"
    }
   ],
   "source": [
    "plt.subplots(figsize=(15,6)) #to change the size of graph\n",
    "plt.plot(y_predict,label='Predicted mpg')\n",
    "plt.plot(y_test, label = 'Actual mpg')\n",
    "plt.title(\"Line graph of comparison between actual mpg and predicted mpg\")\n",
    "plt.legend()\n",
    "plt.show()"
   ]
  },
  {
   "cell_type": "markdown",
   "metadata": {},
   "source": [
    "To determine the error of the prediction and goodness of fit of a model"
   ]
  },
  {
   "cell_type": "code",
   "execution_count": 295,
   "metadata": {},
   "outputs": [
    {
     "name": "stdout",
     "output_type": "stream",
     "text": [
      "The mean squared error is 0.08226392778106686\n",
      "The mean absolute error is 0.22503024575989086\n",
      "The R2 score is 0.9110268981042768\n"
     ]
    }
   ],
   "source": [
    "from sklearn.metrics import mean_squared_error,mean_absolute_error,r2_score\n",
    "model_mse = mean_squared_error(y_test, y_predict)# to determine the error of prediction\n",
    "model_mae= mean_absolute_error(y_test, y_predict)\n",
    "model_r2_score= (r2_score(y_test, y_predict)) # to determine goodness of fit of a model\n",
    "print(\"The mean squared error is\",model_mse)\n",
    "print(\"The mean absolute error is\",model_mae)\n",
    "print(\"The R2 score is\",model_r2_score)"
   ]
  },
  {
   "cell_type": "code",
   "execution_count": null,
   "metadata": {},
   "outputs": [],
   "source": []
  }
 ],
 "metadata": {
  "kernelspec": {
   "display_name": "Python 3",
   "language": "python",
   "name": "python3"
  },
  "language_info": {
   "codemirror_mode": {
    "name": "ipython",
    "version": 3
   },
   "file_extension": ".py",
   "mimetype": "text/x-python",
   "name": "python",
   "nbconvert_exporter": "python",
   "pygments_lexer": "ipython3",
   "version": "3.8.8"
  }
 },
 "nbformat": 4,
 "nbformat_minor": 2
}
